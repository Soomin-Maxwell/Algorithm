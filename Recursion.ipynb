{
 "cells": [
  {
   "cell_type": "code",
   "execution_count": 41,
   "metadata": {},
   "outputs": [
    {
     "name": "stdout",
     "output_type": "stream",
     "text": [
      "5\n",
      "120\n"
     ]
    }
   ],
   "source": [
    "# Factorial \n",
    "def Factorial(n) : \n",
    "    if n == 0 : \n",
    "        return 1 \n",
    "    else : \n",
    "        return n * Factorial(n-1)\n",
    "\n",
    "def main() : \n",
    "    n = int(input())\n",
    "    print(Factorial(n))\n",
    "    \n",
    "if __name__ == \"__main__\" : \n",
    "    main()"
   ]
  },
  {
   "cell_type": "code",
   "execution_count": 38,
   "metadata": {},
   "outputs": [
    {
     "name": "stdout",
     "output_type": "stream",
     "text": [
      "12\n",
      "144\n"
     ]
    }
   ],
   "source": [
    "# Fibonacci \n",
    "memo = {}\n",
    "def fib(n):\n",
    "    if n in memo : \n",
    "        return memo[n] \n",
    "    else : \n",
    "        memo[n] = n if n <2 else fib(n-2) + fib(n-1)\n",
    "        return memo[n]\n",
    "def main() : \n",
    "    n = int(input())\n",
    "    print(fib(n))\n",
    "    \n",
    "if __name__ == \"__main__\" : \n",
    "    main()"
   ]
  },
  {
   "cell_type": "code",
   "execution_count": 2,
   "metadata": {},
   "outputs": [
    {
     "name": "stdout",
     "output_type": "stream",
     "text": [
      "2 4 1 5\n",
      "1 2 4 5\n"
     ]
    }
   ],
   "source": [
    "# QuickSort\n",
    "def quickSort(array):\n",
    "    if len(array) <= 1 : \n",
    "        return array\n",
    "    pivot = array[0]\n",
    "    left = [i for i in array[1:] if i <= pivot]\n",
    "    right = [i for i in array[1:] if i > pivot]\n",
    "    return quickSort(left) + [pivot] + quickSort(right)\n",
    "\n",
    "def main():\n",
    "    line = [int(x) for x in input().split()]\n",
    "    print(*quickSort(line))\n",
    "\n",
    "if __name__ == \"__main__\":\n",
    "    main()"
   ]
  },
  {
   "cell_type": "code",
   "execution_count": 1,
   "metadata": {},
   "outputs": [
    {
     "name": "stdout",
     "output_type": "stream",
     "text": [
      "(())()()\n",
      "YES\n"
     ]
    }
   ],
   "source": [
    "# Check whether parentheses is right or not \n",
    "def checkParen(p):\n",
    "    if len(p) == 0 :  \n",
    "        return \"YES\" \n",
    "    elif len(p) == 1 :  \n",
    "        return \"NO\" \n",
    "    for i in range(len(p)-1) :\n",
    "        if p[i] == \"(\" and p[i+1] == \")\" :\n",
    "            q = p[:i] + p[i+2:] \n",
    "            return checkParen(q)\n",
    "    return \"NO\"\n",
    "\n",
    "def main():\n",
    "    x = [x for x in input()]\n",
    "    print(checkParen(x))\n",
    "\n",
    "if __name__ == \"__main__\":\n",
    "    main()"
   ]
  },
  {
   "cell_type": "code",
   "execution_count": 2,
   "metadata": {},
   "outputs": [
    {
     "name": "stdout",
     "output_type": "stream",
     "text": [
      "1 4 6 7 10 14 16\n",
      "8\n",
      "7\n"
     ]
    }
   ],
   "source": [
    "#Get Nearest Value with binary search\n",
    "import sys\n",
    "\n",
    "def getNearestInternal(data,m) : \n",
    "    if len(data) == 1 :\n",
    "        return (data[0], data[0])\n",
    "\n",
    "    elif len(data) == 2 : \n",
    "        return(data[0], data[1])\n",
    "\n",
    "    mid = len(data) // 2\n",
    "    if data[mid] <= m :\n",
    "        return getNearestInternal(data[mid:],m)\n",
    "    else : \n",
    "        return getNearestInternal(data[0:mid+1],m)\n",
    "        \n",
    "def getNearest(data, m) :\n",
    "    value = getNearestInternal(data,m) \n",
    "    if m - value[0] <= value[1] - m : \n",
    "        return value[0]\n",
    "    else : \n",
    "        return value [1]\n",
    "\n",
    "def main():\n",
    "    data = [int(x) for x in input().split()]\n",
    "    m = int(input())\n",
    "    print(getNearest(data, m))\n",
    "\n",
    "if __name__ == \"__main__\":\n",
    "    main()"
   ]
  },
  {
   "cell_type": "code",
   "execution_count": 1,
   "metadata": {},
   "outputs": [
    {
     "name": "stdout",
     "output_type": "stream",
     "text": [
      "1 5 6 2 3 8 4 9 7 10\n",
      "1 2 3 4 5 6 7 8 9 10\n"
     ]
    }
   ],
   "source": [
    "# Merge sort with divide and conquer algorithm\n",
    "import sys\n",
    "import math \n",
    "\n",
    "def mergeSort(data) :\n",
    "    result = []\n",
    "    \n",
    "    # Base condition \n",
    "    if len(data) ==  1: \n",
    "        return data \n",
    "    \n",
    "    # Split into two lists\n",
    "    mid = len(data) // 2\n",
    "    left = mergeSort(data[:mid])\n",
    "    right = mergeSort(data[mid:])\n",
    "    \n",
    "    leftPt = 0\n",
    "    rightPt = 0 \n",
    "    \n",
    "    while len(left) > leftPt or len(right) > rightPt : \n",
    "        leftValue = left[leftPt] if leftPt < len(left) else math.inf \n",
    "        rightValue = right[rightPt] if rightPt < len(right) else math.inf \n",
    "        \n",
    "        if leftValue < rightValue : \n",
    "            result.append(leftValue)\n",
    "            leftPt += 1\n",
    "            \n",
    "        else :\n",
    "            result.append(rightValue) \n",
    "            rightPt += 1 \n",
    "            \n",
    "    return result \n",
    "\n",
    "def main():\n",
    "    data = [int(x) for x in input().split()]\n",
    "    print(*mergeSort(data))\n",
    "\n",
    "if __name__ == \"__main__\":\n",
    "    main()"
   ]
  },
  {
   "cell_type": "code",
   "execution_count": 2,
   "metadata": {},
   "outputs": [
    {
     "name": "stdout",
     "output_type": "stream",
     "text": [
      "1 2 -4 5 3 -2 9 -10\n",
      "15\n"
     ]
    }
   ],
   "source": [
    "# Get max sum \n",
    "import sys\n",
    "\n",
    "def getSubsum(data) :\n",
    "     # Base Condition \n",
    "    if len(data) == 1 :\n",
    "        return data[0]\n",
    "    \n",
    "    # Split into two lists \n",
    "    mid = len(data) // 2\n",
    "    left = getSubsum(data[:mid]) \n",
    "    right = getSubsum(data[mid:])\n",
    "        \n",
    "    Sum = 0 \n",
    "    leftSum = 0\n",
    "    rightSum = 0\n",
    "    \n",
    "    for i in range(mid-1, -1, -1) : \n",
    "        Sum += data[i]\n",
    "        leftSum = max(Sum, leftSum)\n",
    "        \n",
    "    Sum = 0 \n",
    "    for i in range(mid, len(data)) :\n",
    "        Sum += data[i] \n",
    "        rightSum = max(Sum,rightSum)\n",
    "    return max([left,right,leftSum+rightSum])\n",
    "    \n",
    "def main():\n",
    "    data = [int(x) for x in input().split()]\n",
    "    print(getSubsum(data))\n",
    "\n",
    "if __name__ == \"__main__\":\n",
    "    main()"
   ]
  },
  {
   "cell_type": "code",
   "execution_count": 1,
   "metadata": {},
   "outputs": [
    {
     "name": "stdout",
     "output_type": "stream",
     "text": [
      "2 3 7 9 10 -1 5 \n",
      "4\n",
      "No\n"
     ]
    }
   ],
   "source": [
    "# Binary Search \n",
    "import sys\n",
    "\n",
    "def binarySearch(data, m) :\n",
    "\n",
    "    data.sort()\n",
    "    \n",
    "    if len(data) == 1 : \n",
    "        if data == m  :\n",
    "            return \"Yes\"\n",
    "        else  :\n",
    "            return \"No\"\n",
    "            \n",
    "    mid = len(data) // 2 \n",
    "\n",
    "    if data[mid] ==  m : \n",
    "        return \"Yes\"\n",
    "        \n",
    "    elif data[mid] < m :  \n",
    "        return binarySearch(data[mid:],m)  \n",
    "    elif data[mid] > m : \n",
    "        return binarySearch(data[:mid],m)   \n",
    "    \n",
    "def main():\n",
    "    data = [int(x) for x in input().split()]\n",
    "    m= int(input())\n",
    "\n",
    "    print(binarySearch(data, m))\n",
    "\n",
    "if __name__ == \"__main__\":\n",
    "    main()"
   ]
  }
 ],
 "metadata": {
  "kernelspec": {
   "display_name": "Python 3",
   "language": "python",
   "name": "python3"
  },
  "language_info": {
   "codemirror_mode": {
    "name": "ipython",
    "version": 3
   },
   "file_extension": ".py",
   "mimetype": "text/x-python",
   "name": "python",
   "nbconvert_exporter": "python",
   "pygments_lexer": "ipython3",
   "version": "3.7.6"
  }
 },
 "nbformat": 4,
 "nbformat_minor": 4
}
