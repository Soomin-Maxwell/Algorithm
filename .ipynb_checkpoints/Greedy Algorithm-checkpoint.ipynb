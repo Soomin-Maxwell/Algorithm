{
 "cells": [
  {
   "cell_type": "code",
   "execution_count": 3,
   "metadata": {},
   "outputs": [
    {
     "name": "stdout",
     "output_type": "stream",
     "text": [
      "324\n",
      "9\n"
     ]
    }
   ],
   "source": [
    "# Get count of minimal return coins\n",
    "import sys\n",
    "\n",
    "def coinChange(n) :\n",
    "    coins_count = 0 \n",
    "    coins = [100,50,10,5,1]\n",
    "    \n",
    "    for coin in coins : \n",
    "        coins_count +=  (n // coin)\n",
    "        n =  n % coin \n",
    "        if n == 0 : \n",
    "            break \n",
    "    return coins_count\n",
    "\n",
    "def main():\n",
    "    n = int(input())\n",
    "    print(coinChange(n))\n",
    "\n",
    "if __name__ == \"__main__\":\n",
    "    main()"
   ]
  },
  {
   "cell_type": "code",
   "execution_count": 1,
   "metadata": {},
   "outputs": [
    {
     "name": "stdout",
     "output_type": "stream",
     "text": [
      "4\n",
      "0 4\n",
      "1 1\n",
      "2 2 \n",
      "4 1\n",
      "3.000\n"
     ]
    }
   ],
   "source": [
    "# Get largest slope \n",
    "import sys\n",
    "\n",
    "def getSlope(a,b) :\n",
    "    slope = abs((b[1] - a[1]) / (b[0] - a[0]))\n",
    "    return slope\n",
    "    \n",
    "def maxSlope(points) : \n",
    "    points.sort() \n",
    "    result = 0 \n",
    "    for i in range(len(points)-1)  :\n",
    "        result = max(result, getSlope(points[i], points[i+1]))\n",
    "    return result \n",
    "\n",
    "def main():\n",
    "\n",
    "    n = int(input())\n",
    "    points = []\n",
    "\n",
    "    for i in range(n) :\n",
    "        line = [int(x) for x in input().split()]\n",
    "        points.append( (line[0], line[1]) )\n",
    "\n",
    "    print(\"%.3lf\" % maxSlope(points))       \n",
    "\n",
    "if __name__ == \"__main__\":\n",
    "    main()\n"
   ]
  },
  {
   "cell_type": "code",
   "execution_count": null,
   "metadata": {},
   "outputs": [],
   "source": []
  }
 ],
 "metadata": {
  "kernelspec": {
   "display_name": "Python 3",
   "language": "python",
   "name": "python3"
  },
  "language_info": {
   "codemirror_mode": {
    "name": "ipython",
    "version": 3
   },
   "file_extension": ".py",
   "mimetype": "text/x-python",
   "name": "python",
   "nbconvert_exporter": "python",
   "pygments_lexer": "ipython3",
   "version": "3.7.6"
  }
 },
 "nbformat": 4,
 "nbformat_minor": 4
}
