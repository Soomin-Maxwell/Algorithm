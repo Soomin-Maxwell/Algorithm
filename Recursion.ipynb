{
 "cells": [
  {
   "cell_type": "code",
   "execution_count": 41,
   "metadata": {},
   "outputs": [
    {
     "name": "stdout",
     "output_type": "stream",
     "text": [
      "5\n",
      "120\n"
     ]
    }
   ],
   "source": [
    "# Factorial \n",
    "def Factorial(n) : \n",
    "    if n == 0 : \n",
    "        return 1 \n",
    "    else : \n",
    "        return n * Factorial(n-1)\n",
    "\n",
    "def main() : \n",
    "    n = int(input())\n",
    "    print(Factorial(n))\n",
    "    \n",
    "if __name__ == \"__main__\" : \n",
    "    main()"
   ]
  },
  {
   "cell_type": "code",
   "execution_count": 38,
   "metadata": {},
   "outputs": [
    {
     "name": "stdout",
     "output_type": "stream",
     "text": [
      "12\n",
      "144\n"
     ]
    }
   ],
   "source": [
    "# Fibonacci \n",
    "memo = {}\n",
    "def fib(n):\n",
    "    if n in memo : \n",
    "        return memo[n] \n",
    "    else : \n",
    "        memo[n] = n if n <2 else fib(n-2) + fib(n-1)\n",
    "        return memo[n]\n",
    "def main() : \n",
    "    n = int(input())\n",
    "    print(fib(n))\n",
    "    \n",
    "if __name__ == \"__main__\" : \n",
    "    main()"
   ]
  },
  {
   "cell_type": "code",
   "execution_count": 2,
   "metadata": {},
   "outputs": [
    {
     "name": "stdout",
     "output_type": "stream",
     "text": [
      "2 4 1 5\n",
      "1 2 4 5\n"
     ]
    }
   ],
   "source": [
    "# QuickSort\n",
    "def quickSort(array):\n",
    "    if len(array) <= 1 : \n",
    "        return array\n",
    "    pivot = array[0]\n",
    "    left = [i for i in array[1:] if i <= pivot]\n",
    "    right = [i for i in array[1:] if i > pivot]\n",
    "    return quickSort(left) + [pivot] + quickSort(right)\n",
    "\n",
    "def main():\n",
    "    line = [int(x) for x in input().split()]\n",
    "    print(*quickSort(line))\n",
    "\n",
    "if __name__ == \"__main__\":\n",
    "    main()"
   ]
  },
  {
   "cell_type": "code",
   "execution_count": 4,
   "metadata": {},
   "outputs": [
    {
     "name": "stdout",
     "output_type": "stream",
     "text": [
      "()()))(\n",
      "NO\n"
     ]
    }
   ],
   "source": [
    "# Check whether parentheses is right or not \n",
    "def checkParen(p):\n",
    "    if len(p) == 0 :  \n",
    "        return \"YES\" \n",
    "    elif len(p) == 1 :  \n",
    "        return \"NO\" \n",
    "    for i in range(len(p)-1) :\n",
    "        if p[i] == \"(\" and p[i+1] == \")\" :\n",
    "            q = p[:i] + p[i+2:] \n",
    "            return checkParen(q)\n",
    "    return \"NO\"\n",
    "\n",
    "def main():\n",
    "    x = [x for x in input()]\n",
    "    print(checkParen(x))\n",
    "\n",
    "if __name__ == \"__main__\":\n",
    "    main()"
   ]
  }
 ],
 "metadata": {
  "kernelspec": {
   "display_name": "Python 3",
   "language": "python",
   "name": "python3"
  },
  "language_info": {
   "codemirror_mode": {
    "name": "ipython",
    "version": 3
   },
   "file_extension": ".py",
   "mimetype": "text/x-python",
   "name": "python",
   "nbconvert_exporter": "python",
   "pygments_lexer": "ipython3",
   "version": "3.7.6"
  }
 },
 "nbformat": 4,
 "nbformat_minor": 4
}
