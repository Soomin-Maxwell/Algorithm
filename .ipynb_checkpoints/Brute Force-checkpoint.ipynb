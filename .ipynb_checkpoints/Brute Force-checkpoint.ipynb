{
 "cells": [
  {
   "cell_type": "code",
   "execution_count": 20,
   "metadata": {},
   "outputs": [
    {
     "name": "stdout",
     "output_type": "stream",
     "text": [
      "1 2 -4 5 3 -2 9 -10\n",
      "15\n"
     ]
    }
   ],
   "source": [
    "# Get Max Sum of List => Could be solved with Dynamic Programming\n",
    "import math \n",
    "def getSubsum(data) :\n",
    "    result = -math.inf\n",
    "    for start in range(0,len(data)) : \n",
    "        for end in range(start+1, len(data)) : \n",
    "            temp = 0 \n",
    "            for i in range(start,end) :\n",
    "                temp += data[i]\n",
    "            result = max(result,temp)  \n",
    "    return result \n",
    "\n",
    "def main() :\n",
    "    data= [int(x) for x in input().split()]\n",
    "    print(getSubsum(data))\n",
    "\n",
    "if __name__ == \"__main__\" :\n",
    "    main()\n",
    "    "
   ]
  },
  {
   "cell_type": "code",
   "execution_count": 108,
   "metadata": {},
   "outputs": [
    {
     "name": "stdout",
     "output_type": "stream",
     "text": [
      "3\n",
      "1\n",
      "1 2\n",
      "1 2 3\n",
      "1 3\n",
      "2\n",
      "2 3\n",
      "3\n"
     ]
    }
   ],
   "source": [
    "# Powerset \n",
    "def getPowerSet(n,k) :\n",
    "    basic = k\n",
    "    result = [[basic]]\n",
    "    \n",
    "    if n == k : \n",
    "        return [[k]]\n",
    "    \n",
    "    k += 1 \n",
    "    while (n >= k) : \n",
    "        for i in getPowerSet(n,k) :\n",
    "            result.append([basic] + i)\n",
    "        k += 1 \n",
    "    \n",
    "    else : \n",
    "        return result\n",
    "\n",
    "def powerSet(n) :\n",
    "    result = []\n",
    "    for i in range(1,n+1) :\n",
    "        result += getPowerSet(n,i)\n",
    "    return result \n",
    "\n",
    "def main() :\n",
    "    n = int(input())\n",
    "    result = powerSet(n)\n",
    "    \n",
    "    for i in result : \n",
    "        print(*i)\n",
    "\n",
    "if __name__ == \"__main__\" :\n",
    "    main()"
   ]
  }
 ],
 "metadata": {
  "kernelspec": {
   "display_name": "Python 3",
   "language": "python",
   "name": "python3"
  },
  "language_info": {
   "codemirror_mode": {
    "name": "ipython",
    "version": 3
   },
   "file_extension": ".py",
   "mimetype": "text/x-python",
   "name": "python",
   "nbconvert_exporter": "python",
   "pygments_lexer": "ipython3",
   "version": "3.7.6"
  }
 },
 "nbformat": 4,
 "nbformat_minor": 4
}
