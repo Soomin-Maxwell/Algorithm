{
 "cells": [
  {
   "cell_type": "markdown",
   "metadata": {},
   "source": [
    "## Marathon "
   ]
  },
  {
   "cell_type": "code",
   "execution_count": 7,
   "metadata": {},
   "outputs": [],
   "source": [
    "def solution(participant, completion):\n",
    "    \n",
    "    if len(set(participant)) != len(set(completion)):\n",
    "        answer = list(set(participant)-set(completion))\n",
    "        return print(*answer)\n",
    "    else : \n",
    "        list_ = []\n",
    "        for i in participant : \n",
    "            if i not in list_ :\n",
    "                list_.append(i)\n",
    "            else : \n",
    "                return print(i)\n"
   ]
  },
  {
   "cell_type": "code",
   "execution_count": 8,
   "metadata": {},
   "outputs": [
    {
     "name": "stdout",
     "output_type": "stream",
     "text": [
      "adam\n"
     ]
    }
   ],
   "source": [
    "participant = [\"kiki\", \"adam\", \"eden\"]\n",
    "completion = [\"eden\", \"kiki\"]\n",
    "solution(participant, completion)"
   ]
  },
  {
   "cell_type": "markdown",
   "metadata": {},
   "source": [
    "#### other solve"
   ]
  },
  {
   "cell_type": "code",
   "execution_count": 5,
   "metadata": {},
   "outputs": [],
   "source": [
    "import collections\n",
    "\n",
    "def solution(participant, completion):\n",
    "    answer = collections.Counter(participant) - collections.Counter(completion)\n",
    "    return list(answer.keys())[0]"
   ]
  },
  {
   "cell_type": "code",
   "execution_count": 6,
   "metadata": {},
   "outputs": [
    {
     "data": {
      "text/plain": [
       "'adam'"
      ]
     },
     "execution_count": 6,
     "metadata": {},
     "output_type": "execute_result"
    }
   ],
   "source": [
    "participant = [\"kiki\", \"adam\", \"eden\"]\n",
    "completion = [\"eden\", \"kiki\"]\n",
    "solution(participant, completion)"
   ]
  }
 ],
 "metadata": {
  "kernelspec": {
   "display_name": "Python 3",
   "language": "python",
   "name": "python3"
  },
  "language_info": {
   "codemirror_mode": {
    "name": "ipython",
    "version": 3
   },
   "file_extension": ".py",
   "mimetype": "text/x-python",
   "name": "python",
   "nbconvert_exporter": "python",
   "pygments_lexer": "ipython3",
   "version": "3.7.6"
  }
 },
 "nbformat": 4,
 "nbformat_minor": 4
}
